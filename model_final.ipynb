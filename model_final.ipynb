{
 "cells": [
  {
   "cell_type": "code",
   "execution_count": 23,
   "metadata": {},
   "outputs": [],
   "source": [
    "import tensorflow as tf\n",
    "\n",
    "# univariate cnn example\n",
    "from keras.models import Sequential\n",
    "from keras.layers import Dense, Flatten, Dropout, GlobalAveragePooling1D\n",
    "from keras.layers.convolutional import Conv1D, MaxPooling1D\n",
    "\n",
    "import numpy as np\n",
    "import pandas as pd\n",
    "import matplotlib.pyplot as plt\n",
    "\n",
    "from keras.utils import Sequence\n",
    "from keras.utils import to_categorical"
   ]
  },
  {
   "cell_type": "code",
   "execution_count": 24,
   "metadata": {},
   "outputs": [],
   "source": [
    "df = pd.read_csv('data.csv')\n",
    "df.drop(columns=df.columns[0], axis=1, inplace=True)"
   ]
  },
  {
   "cell_type": "code",
   "execution_count": 25,
   "metadata": {},
   "outputs": [],
   "source": [
    "X = df.iloc[:,:-1].values\n",
    "y = df.iloc[:, -1].values"
   ]
  },
  {
   "cell_type": "code",
   "execution_count": 26,
   "metadata": {},
   "outputs": [
    {
     "name": "stdout",
     "output_type": "stream",
     "text": [
      "(989642, 39)\n",
      "(989642,)\n"
     ]
    }
   ],
   "source": [
    "print(X.shape)\n",
    "print(y.shape)"
   ]
  },
  {
   "cell_type": "code",
   "execution_count": null,
   "metadata": {},
   "outputs": [],
   "source": [
    "from sklearn.model_selection import train_test_split\n",
    "\n",
    "#Data splitting\n",
    "X_train, X_val, y_train, y_val = train_test_split(X, y, test_size=0.3, random_state=42) \n",
    "print(X_val.shape)\n",
    "print(X_train.shape)"
   ]
  },
  {
   "cell_type": "code",
   "execution_count": 28,
   "metadata": {},
   "outputs": [],
   "source": [
    "from keras.preprocessing.sequence import TimeseriesGenerator\n",
    "\n",
    "train_generator = TimeseriesGenerator(X_train, y_train, length=40, sampling_rate=1, batch_size=40)\n",
    "val_generator = TimeseriesGenerator(X_val, y_val, length=40, sampling_rate=1, batch_size=40)"
   ]
  },
  {
   "cell_type": "code",
   "execution_count": 45,
   "metadata": {},
   "outputs": [
    {
     "name": "stdout",
     "output_type": "stream",
     "text": [
      "(754000, 39)\n",
      "(754000,)\n"
     ]
    }
   ],
   "source": [
    "df_test = pd.read_csv('test_data.csv')\n",
    "df_test.drop(columns=df.columns[0], axis=1, inplace=True)\n",
    "\n",
    "X_test = df_test.iloc[:,:-1].values\n",
    "y_test = df_test.iloc[:, -1].values\n",
    "print(X_test.shape)\n",
    "print(y_test.shape)\n",
    "\n",
    "test_generator = TimeseriesGenerator(X_test, y_test, length=40, sampling_rate=1, batch_size=40)"
   ]
  },
  {
   "cell_type": "code",
   "execution_count": 29,
   "metadata": {},
   "outputs": [],
   "source": [
    "X_tune = np.empty(shape=(17318, 40, 39))\n",
    "y_tune = np.empty(shape=(17318))\n",
    "for items in train_generator.__iter__():\n",
    "   u, v = items\n",
    "   np.concatenate((X_tune, u))\n",
    "   np.concatenate((y_tune, v))"
   ]
  },
  {
   "cell_type": "code",
   "execution_count": 30,
   "metadata": {},
   "outputs": [],
   "source": [
    "from keras.optimizers import Adam\n",
    "from keras.activations import softmax, sigmoid\n",
    "from keras.regularizers import L1L2\n",
    "\n",
    "def model_builder(hp):\n",
    "\n",
    "    lr_min, lr_max = 1e-3, 1e-1\n",
    "\n",
    "    lr = hp.Float('learning_rate', min_value=lr_min, max_value=lr_max, sampling='log')\n",
    "\n",
    "    model = Sequential()\n",
    "    model.add(Conv1D(filters=32, kernel_size=5, strides=1, padding='same', activation='relu'))\n",
    "    model.add(MaxPooling1D(pool_size=2))\n",
    "    model.add(Conv1D(filters=64, kernel_size=5, strides=1, padding='same', activation='relu'))\n",
    "    model.add(MaxPooling1D(pool_size=2))\n",
    "    model.add(Conv1D(filters=128, kernel_size=5, strides=1, padding='same', activation='relu'))\n",
    "    model.add(Flatten())\n",
    "    model.add(Dense(128))\n",
    "    model.add(Dense(2, activation=softmax))\n",
    "\n",
    "    opt = Adam(learning_rate=lr)\n",
    "    model.compile(optimizer=opt, loss='mse', metrics=['accuracy'])\n",
    "    return model"
   ]
  },
  {
   "cell_type": "code",
   "execution_count": 41,
   "metadata": {},
   "outputs": [
    {
     "name": "stdout",
     "output_type": "stream",
     "text": [
      "Trial 10 Complete [00h 00m 33s]\n",
      "val_accuracy: 1.0\n",
      "\n",
      "Best val_accuracy So Far: 1.0\n",
      "Total elapsed time: 00h 04m 59s\n",
      "INFO:tensorflow:Oracle triggered exit\n"
     ]
    },
    {
     "name": "stderr",
     "output_type": "stream",
     "text": [
      "INFO:tensorflow:Oracle triggered exit\n"
     ]
    }
   ],
   "source": [
    "# Hyperparameter optimisation\n",
    "import keras_tuner as kt\n",
    "\n",
    "tuner = kt.RandomSearch(model_builder,\n",
    "                     objective='val_accuracy',\n",
    "                     max_trials=10,\n",
    "                     directory='./Tuning',\n",
    "                     project_name='sepsis_hyperparam',\n",
    "                     overwrite=True)\n",
    "\n",
    "stop_early = tf.keras.callbacks.EarlyStopping(monitor='val_loss', patience=5)\n",
    "\n",
    "tuner.search(X_tune, y_tune, epochs=10, validation_split=0.2, callbacks=[stop_early])"
   ]
  },
  {
   "cell_type": "code",
   "execution_count": 42,
   "metadata": {},
   "outputs": [
    {
     "name": "stdout",
     "output_type": "stream",
     "text": [
      "\n",
      "The hyperparameter search is complete. The optimal learning rate for the optimizer\n",
      "is 0.012158303534721207.\n",
      "\n"
     ]
    }
   ],
   "source": [
    "# Get the optimal hyperparameters\n",
    "best_hps=tuner.get_best_hyperparameters(num_trials=1)[0]\n",
    "\n",
    "print(f\"\"\"\n",
    "The hyperparameter search is complete. The optimal learning rate for the optimizer\n",
    "is {best_hps.get('learning_rate')}.\n",
    "\"\"\")"
   ]
  },
  {
   "cell_type": "code",
   "execution_count": 43,
   "metadata": {},
   "outputs": [
    {
     "name": "stdout",
     "output_type": "stream",
     "text": [
      "Epoch 1/10\n"
     ]
    },
    {
     "name": "stderr",
     "output_type": "stream",
     "text": [
      "2023-01-14 17:11:43.314448: I tensorflow/core/grappler/optimizers/custom_graph_optimizer_registry.cc:114] Plugin optimizer for device_type GPU is enabled.\n"
     ]
    },
    {
     "name": "stdout",
     "output_type": "stream",
     "text": [
      "17317/17318 [============================>.] - ETA: 0s - loss: 0.5000 - accuracy: 0.9106"
     ]
    },
    {
     "name": "stderr",
     "output_type": "stream",
     "text": [
      "2023-01-14 17:14:37.569820: I tensorflow/core/grappler/optimizers/custom_graph_optimizer_registry.cc:114] Plugin optimizer for device_type GPU is enabled.\n"
     ]
    },
    {
     "name": "stdout",
     "output_type": "stream",
     "text": [
      "\n",
      "Epoch 1: accuracy improved from inf to 0.91062, saving model to FirstPredictor\n"
     ]
    },
    {
     "name": "stderr",
     "output_type": "stream",
     "text": [
      "WARNING:absl:Found untraced functions such as _jit_compiled_convolution_op, _jit_compiled_convolution_op, _jit_compiled_convolution_op while saving (showing 3 of 3). These functions will not be directly callable after loading.\n"
     ]
    },
    {
     "name": "stdout",
     "output_type": "stream",
     "text": [
      "INFO:tensorflow:Assets written to: FirstPredictor/assets\n"
     ]
    },
    {
     "name": "stderr",
     "output_type": "stream",
     "text": [
      "INFO:tensorflow:Assets written to: FirstPredictor/assets\n"
     ]
    },
    {
     "name": "stdout",
     "output_type": "stream",
     "text": [
      "17318/17318 [==============================] - 209s 12ms/step - loss: 0.5000 - accuracy: 0.9106 - val_loss: 0.5000 - val_accuracy: 0.9105\n",
      "Epoch 2/10\n",
      "17316/17318 [============================>.] - ETA: 0s - loss: 0.5000 - accuracy: 0.9107\n",
      "Epoch 2: accuracy did not improve from 0.91062\n",
      "17318/17318 [==============================] - 192s 11ms/step - loss: 0.5000 - accuracy: 0.9107 - val_loss: 0.5000 - val_accuracy: 0.9105\n",
      "Epoch 3/10\n",
      "17316/17318 [============================>.] - ETA: 0s - loss: 0.5000 - accuracy: 0.9107\n",
      "Epoch 3: accuracy did not improve from 0.91062\n",
      "17318/17318 [==============================] - 190s 11ms/step - loss: 0.5000 - accuracy: 0.9107 - val_loss: 0.5000 - val_accuracy: 0.9105\n",
      "Epoch 4/10\n",
      "17313/17318 [============================>.] - ETA: 0s - loss: 0.5000 - accuracy: 0.9107\n",
      "Epoch 4: accuracy did not improve from 0.91062\n",
      "17318/17318 [==============================] - 189s 11ms/step - loss: 0.5000 - accuracy: 0.9107 - val_loss: 0.5000 - val_accuracy: 0.9105\n",
      "Epoch 5/10\n",
      "17317/17318 [============================>.] - ETA: 0s - loss: 0.5000 - accuracy: 0.9107\n",
      "Epoch 5: accuracy did not improve from 0.91062\n",
      "17318/17318 [==============================] - 235s 14ms/step - loss: 0.5000 - accuracy: 0.9107 - val_loss: 0.5000 - val_accuracy: 0.9105\n",
      "Epoch 6/10\n",
      "17318/17318 [==============================] - ETA: 0s - loss: 0.5000 - accuracy: 0.9107\n",
      "Epoch 6: accuracy did not improve from 0.91062\n",
      "17318/17318 [==============================] - 260s 15ms/step - loss: 0.5000 - accuracy: 0.9107 - val_loss: 0.5000 - val_accuracy: 0.9105\n",
      "Epoch 7/10\n",
      "17315/17318 [============================>.] - ETA: 0s - loss: 0.5000 - accuracy: 0.9107\n",
      "Epoch 7: accuracy did not improve from 0.91062\n",
      "17318/17318 [==============================] - 217s 13ms/step - loss: 0.5000 - accuracy: 0.9107 - val_loss: 0.5000 - val_accuracy: 0.9105\n",
      "Epoch 8/10\n",
      "17318/17318 [==============================] - ETA: 0s - loss: 0.5000 - accuracy: 0.9107\n",
      "Epoch 8: accuracy did not improve from 0.91062\n",
      "17318/17318 [==============================] - 205s 12ms/step - loss: 0.5000 - accuracy: 0.9107 - val_loss: 0.5000 - val_accuracy: 0.9105\n",
      "Epoch 9/10\n",
      "17317/17318 [============================>.] - ETA: 0s - loss: 0.5000 - accuracy: 0.9107\n",
      "Epoch 9: accuracy did not improve from 0.91062\n",
      "17318/17318 [==============================] - 206s 12ms/step - loss: 0.5000 - accuracy: 0.9107 - val_loss: 0.5000 - val_accuracy: 0.9105\n",
      "Epoch 10/10\n",
      "17314/17318 [============================>.] - ETA: 0s - loss: 0.5000 - accuracy: 0.9107\n",
      "Epoch 10: accuracy did not improve from 0.91062\n",
      "17318/17318 [==============================] - 194s 11ms/step - loss: 0.5000 - accuracy: 0.9107 - val_loss: 0.5000 - val_accuracy: 0.9105\n"
     ]
    }
   ],
   "source": [
    "# Build the model with the optimal hyperparameters and train it on the data for 10 epochs\n",
    "from keras.callbacks import ModelCheckpoint\n",
    "\n",
    "checkpoint=ModelCheckpoint(filepath='FirstPredictor', monitor='accuracy', verbose=1, save_best_only=True, mode='min')\n",
    "callbacks=[checkpoint]\n",
    "\n",
    "model = tuner.hypermodel.build(best_hps)\n",
    "history = model.fit(train_generator, epochs=10, verbose=1, callbacks=callbacks, validation_data=val_generator)\n"
   ]
  },
  {
   "cell_type": "code",
   "execution_count": 59,
   "metadata": {},
   "outputs": [],
   "source": [
    "model.save('SepsisPredictor3.h5', save_format='h5')"
   ]
  },
  {
   "attachments": {},
   "cell_type": "markdown",
   "metadata": {},
   "source": [
    "## Evaluating the ouput of the network"
   ]
  },
  {
   "cell_type": "code",
   "execution_count": 46,
   "metadata": {},
   "outputs": [
    {
     "name": "stdout",
     "output_type": "stream",
     "text": [
      "18849/18849 [==============================] - 108s 6ms/step - loss: 0.5000 - accuracy: 0.9761\n",
      "[test loss, test accuracy]: [0.5, 0.9761273860931396]\n"
     ]
    }
   ],
   "source": [
    "eval_result = model.evaluate(test_generator)\n",
    "print(\"[test loss, test accuracy]:\", eval_result)"
   ]
  },
  {
   "cell_type": "code",
   "execution_count": 65,
   "metadata": {},
   "outputs": [
    {
     "data": {
      "image/png": "[encoded data removed]",
      "text/plain": [
       "<Figure size 640x480 with 1 Axes>"
      ]
     },
     "metadata": {},
     "output_type": "display_data"
    }
   ],
   "source": [
    "# summarize history for accuracy\n",
    "plt.plot(history.history['accuracy'])\n",
    "plt.plot(history.history['val_accuracy'])\n",
    "plt.title('model accuracy')\n",
    "plt.ylabel('accuracy')\n",
    "plt.xlabel('epoch')\n",
    "plt.legend(['train', 'val'], loc='upper left')\n",
    "plt.savefig('./plots/model_acc.png')"
   ]
  },
  {
   "cell_type": "code",
   "execution_count": 52,
   "metadata": {},
   "outputs": [],
   "source": [
    "reconstructed_model = tf.keras.models.load_model('SepsisPredictor3')"
   ]
  },
  {
   "cell_type": "code",
   "execution_count": 55,
   "metadata": {},
   "outputs": [
    {
     "name": "stdout",
     "output_type": "stream",
     "text": [
      "1/2 [==============>...............] - ETA: 0s"
     ]
    },
    {
     "name": "stderr",
     "output_type": "stream",
     "text": [
      "2023-01-14 17:58:28.473439: I tensorflow/core/grappler/optimizers/custom_graph_optimizer_registry.cc:114] Plugin optimizer for device_type GPU is enabled.\n"
     ]
    },
    {
     "name": "stdout",
     "output_type": "stream",
     "text": [
      "2/2 [==============================] - 0s 66ms/step\n"
     ]
    }
   ],
   "source": [
    "yhat = reconstructed_model.predict(test_generator[0][0])"
   ]
  },
  {
   "cell_type": "code",
   "execution_count": 56,
   "metadata": {},
   "outputs": [
    {
     "name": "stdout",
     "output_type": "stream",
     "text": [
      "[[1. 0.]\n",
      " [1. 0.]\n",
      " [1. 0.]\n",
      " [1. 0.]\n",
      " [1. 0.]\n",
      " [1. 0.]\n",
      " [1. 0.]\n",
      " [1. 0.]\n",
      " [1. 0.]\n",
      " [1. 0.]\n",
      " [1. 0.]\n",
      " [1. 0.]\n",
      " [1. 0.]\n",
      " [1. 0.]\n",
      " [1. 0.]\n",
      " [1. 0.]\n",
      " [1. 0.]\n",
      " [1. 0.]\n",
      " [1. 0.]\n",
      " [1. 0.]\n",
      " [1. 0.]\n",
      " [1. 0.]\n",
      " [1. 0.]\n",
      " [1. 0.]\n",
      " [1. 0.]\n",
      " [1. 0.]\n",
      " [1. 0.]\n",
      " [1. 0.]\n",
      " [1. 0.]\n",
      " [1. 0.]\n",
      " [1. 0.]\n",
      " [1. 0.]\n",
      " [1. 0.]\n",
      " [1. 0.]\n",
      " [1. 0.]\n",
      " [1. 0.]\n",
      " [1. 0.]\n",
      " [1. 0.]\n",
      " [1. 0.]\n",
      " [1. 0.]]\n"
     ]
    }
   ],
   "source": [
    "print(yhat)"
   ]
  }
 ],
 "metadata": {
  "kernelspec": {
   "display_name": "ai",
   "language": "python",
   "name": "python3"
  },
  "language_info": {
   "codemirror_mode": {
    "name": "ipython",
    "version": 3
   },
   "file_extension": ".py",
   "mimetype": "text/x-python",
   "name": "python",
   "nbconvert_exporter": "python",
   "pygments_lexer": "ipython3",
   "version": "3.10.8"
  },
  "orig_nbformat": 4,
  "vscode": {
   "interpreter": {
    "hash": "c8bf388bf8aa7fe163cf8a71f0083adca543d9d296f4f10e46c490a7233631c7"
   }
  }
 },
 "nbformat": 4,
 "nbformat_minor": 2
}
